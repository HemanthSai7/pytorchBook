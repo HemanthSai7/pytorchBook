{
 "cells": [
  {
   "cell_type": "code",
   "execution_count": 1,
   "metadata": {},
   "outputs": [],
   "source": [
    "import numpy as np\n",
    "import pandas as pd\n",
    "import matplotlib.pyplot as plt\n",
    "from matplotlib.colors import ListedColormap\n",
    "\n",
    "from sklearn.model_selection import train_test_split\n",
    "from sklearn.preprocessing import StandardScaler\n",
    "from sklearn.linear_model import LogisticRegression\n",
    "from sklearn.decomposition import PCA\n",
    "from sklearn.discriminant_analysis import LinearDiscriminantAnalysis as LDA\n",
    "\n",
    "%matplotlib inline"
   ]
  },
  {
   "cell_type": "code",
   "execution_count": 2,
   "metadata": {},
   "outputs": [
    {
     "data": {
      "text/html": [
       "<div>\n",
       "<style scoped>\n",
       "    .dataframe tbody tr th:only-of-type {\n",
       "        vertical-align: middle;\n",
       "    }\n",
       "\n",
       "    .dataframe tbody tr th {\n",
       "        vertical-align: top;\n",
       "    }\n",
       "\n",
       "    .dataframe thead th {\n",
       "        text-align: right;\n",
       "    }\n",
       "</style>\n",
       "<table border=\"1\" class=\"dataframe\">\n",
       "  <thead>\n",
       "    <tr style=\"text-align: right;\">\n",
       "      <th></th>\n",
       "      <th>Class label</th>\n",
       "      <th>Alcohol</th>\n",
       "      <th>Malic acid</th>\n",
       "      <th>Ash</th>\n",
       "      <th>Alcalinity of ash</th>\n",
       "      <th>Magnesium</th>\n",
       "      <th>Total phenols</th>\n",
       "      <th>Flavanoids</th>\n",
       "      <th>Nonflavanoid phenols</th>\n",
       "      <th>Proanthocyanins</th>\n",
       "      <th>Color intensity</th>\n",
       "      <th>Hue</th>\n",
       "      <th>OD280/OD315 of diluted wines</th>\n",
       "      <th>Proline</th>\n",
       "    </tr>\n",
       "  </thead>\n",
       "  <tbody>\n",
       "    <tr>\n",
       "      <th>0</th>\n",
       "      <td>1</td>\n",
       "      <td>14.23</td>\n",
       "      <td>1.71</td>\n",
       "      <td>2.43</td>\n",
       "      <td>15.6</td>\n",
       "      <td>127</td>\n",
       "      <td>2.80</td>\n",
       "      <td>3.06</td>\n",
       "      <td>0.28</td>\n",
       "      <td>2.29</td>\n",
       "      <td>5.64</td>\n",
       "      <td>1.04</td>\n",
       "      <td>3.92</td>\n",
       "      <td>1065</td>\n",
       "    </tr>\n",
       "    <tr>\n",
       "      <th>1</th>\n",
       "      <td>1</td>\n",
       "      <td>13.20</td>\n",
       "      <td>1.78</td>\n",
       "      <td>2.14</td>\n",
       "      <td>11.2</td>\n",
       "      <td>100</td>\n",
       "      <td>2.65</td>\n",
       "      <td>2.76</td>\n",
       "      <td>0.26</td>\n",
       "      <td>1.28</td>\n",
       "      <td>4.38</td>\n",
       "      <td>1.05</td>\n",
       "      <td>3.40</td>\n",
       "      <td>1050</td>\n",
       "    </tr>\n",
       "    <tr>\n",
       "      <th>2</th>\n",
       "      <td>1</td>\n",
       "      <td>13.16</td>\n",
       "      <td>2.36</td>\n",
       "      <td>2.67</td>\n",
       "      <td>18.6</td>\n",
       "      <td>101</td>\n",
       "      <td>2.80</td>\n",
       "      <td>3.24</td>\n",
       "      <td>0.30</td>\n",
       "      <td>2.81</td>\n",
       "      <td>5.68</td>\n",
       "      <td>1.03</td>\n",
       "      <td>3.17</td>\n",
       "      <td>1185</td>\n",
       "    </tr>\n",
       "    <tr>\n",
       "      <th>3</th>\n",
       "      <td>1</td>\n",
       "      <td>14.37</td>\n",
       "      <td>1.95</td>\n",
       "      <td>2.50</td>\n",
       "      <td>16.8</td>\n",
       "      <td>113</td>\n",
       "      <td>3.85</td>\n",
       "      <td>3.49</td>\n",
       "      <td>0.24</td>\n",
       "      <td>2.18</td>\n",
       "      <td>7.80</td>\n",
       "      <td>0.86</td>\n",
       "      <td>3.45</td>\n",
       "      <td>1480</td>\n",
       "    </tr>\n",
       "    <tr>\n",
       "      <th>4</th>\n",
       "      <td>1</td>\n",
       "      <td>13.24</td>\n",
       "      <td>2.59</td>\n",
       "      <td>2.87</td>\n",
       "      <td>21.0</td>\n",
       "      <td>118</td>\n",
       "      <td>2.80</td>\n",
       "      <td>2.69</td>\n",
       "      <td>0.39</td>\n",
       "      <td>1.82</td>\n",
       "      <td>4.32</td>\n",
       "      <td>1.04</td>\n",
       "      <td>2.93</td>\n",
       "      <td>735</td>\n",
       "    </tr>\n",
       "    <tr>\n",
       "      <th>...</th>\n",
       "      <td>...</td>\n",
       "      <td>...</td>\n",
       "      <td>...</td>\n",
       "      <td>...</td>\n",
       "      <td>...</td>\n",
       "      <td>...</td>\n",
       "      <td>...</td>\n",
       "      <td>...</td>\n",
       "      <td>...</td>\n",
       "      <td>...</td>\n",
       "      <td>...</td>\n",
       "      <td>...</td>\n",
       "      <td>...</td>\n",
       "      <td>...</td>\n",
       "    </tr>\n",
       "    <tr>\n",
       "      <th>173</th>\n",
       "      <td>3</td>\n",
       "      <td>13.71</td>\n",
       "      <td>5.65</td>\n",
       "      <td>2.45</td>\n",
       "      <td>20.5</td>\n",
       "      <td>95</td>\n",
       "      <td>1.68</td>\n",
       "      <td>0.61</td>\n",
       "      <td>0.52</td>\n",
       "      <td>1.06</td>\n",
       "      <td>7.70</td>\n",
       "      <td>0.64</td>\n",
       "      <td>1.74</td>\n",
       "      <td>740</td>\n",
       "    </tr>\n",
       "    <tr>\n",
       "      <th>174</th>\n",
       "      <td>3</td>\n",
       "      <td>13.40</td>\n",
       "      <td>3.91</td>\n",
       "      <td>2.48</td>\n",
       "      <td>23.0</td>\n",
       "      <td>102</td>\n",
       "      <td>1.80</td>\n",
       "      <td>0.75</td>\n",
       "      <td>0.43</td>\n",
       "      <td>1.41</td>\n",
       "      <td>7.30</td>\n",
       "      <td>0.70</td>\n",
       "      <td>1.56</td>\n",
       "      <td>750</td>\n",
       "    </tr>\n",
       "    <tr>\n",
       "      <th>175</th>\n",
       "      <td>3</td>\n",
       "      <td>13.27</td>\n",
       "      <td>4.28</td>\n",
       "      <td>2.26</td>\n",
       "      <td>20.0</td>\n",
       "      <td>120</td>\n",
       "      <td>1.59</td>\n",
       "      <td>0.69</td>\n",
       "      <td>0.43</td>\n",
       "      <td>1.35</td>\n",
       "      <td>10.20</td>\n",
       "      <td>0.59</td>\n",
       "      <td>1.56</td>\n",
       "      <td>835</td>\n",
       "    </tr>\n",
       "    <tr>\n",
       "      <th>176</th>\n",
       "      <td>3</td>\n",
       "      <td>13.17</td>\n",
       "      <td>2.59</td>\n",
       "      <td>2.37</td>\n",
       "      <td>20.0</td>\n",
       "      <td>120</td>\n",
       "      <td>1.65</td>\n",
       "      <td>0.68</td>\n",
       "      <td>0.53</td>\n",
       "      <td>1.46</td>\n",
       "      <td>9.30</td>\n",
       "      <td>0.60</td>\n",
       "      <td>1.62</td>\n",
       "      <td>840</td>\n",
       "    </tr>\n",
       "    <tr>\n",
       "      <th>177</th>\n",
       "      <td>3</td>\n",
       "      <td>14.13</td>\n",
       "      <td>4.10</td>\n",
       "      <td>2.74</td>\n",
       "      <td>24.5</td>\n",
       "      <td>96</td>\n",
       "      <td>2.05</td>\n",
       "      <td>0.76</td>\n",
       "      <td>0.56</td>\n",
       "      <td>1.35</td>\n",
       "      <td>9.20</td>\n",
       "      <td>0.61</td>\n",
       "      <td>1.60</td>\n",
       "      <td>560</td>\n",
       "    </tr>\n",
       "  </tbody>\n",
       "</table>\n",
       "<p>178 rows × 14 columns</p>\n",
       "</div>"
      ],
      "text/plain": [
       "     Class label  Alcohol  Malic acid   Ash  Alcalinity of ash  Magnesium  \\\n",
       "0              1    14.23        1.71  2.43               15.6        127   \n",
       "1              1    13.20        1.78  2.14               11.2        100   \n",
       "2              1    13.16        2.36  2.67               18.6        101   \n",
       "3              1    14.37        1.95  2.50               16.8        113   \n",
       "4              1    13.24        2.59  2.87               21.0        118   \n",
       "..           ...      ...         ...   ...                ...        ...   \n",
       "173            3    13.71        5.65  2.45               20.5         95   \n",
       "174            3    13.40        3.91  2.48               23.0        102   \n",
       "175            3    13.27        4.28  2.26               20.0        120   \n",
       "176            3    13.17        2.59  2.37               20.0        120   \n",
       "177            3    14.13        4.10  2.74               24.5         96   \n",
       "\n",
       "     Total phenols  Flavanoids  Nonflavanoid phenols  Proanthocyanins  \\\n",
       "0             2.80        3.06                  0.28             2.29   \n",
       "1             2.65        2.76                  0.26             1.28   \n",
       "2             2.80        3.24                  0.30             2.81   \n",
       "3             3.85        3.49                  0.24             2.18   \n",
       "4             2.80        2.69                  0.39             1.82   \n",
       "..             ...         ...                   ...              ...   \n",
       "173           1.68        0.61                  0.52             1.06   \n",
       "174           1.80        0.75                  0.43             1.41   \n",
       "175           1.59        0.69                  0.43             1.35   \n",
       "176           1.65        0.68                  0.53             1.46   \n",
       "177           2.05        0.76                  0.56             1.35   \n",
       "\n",
       "     Color intensity   Hue  OD280/OD315 of diluted wines  Proline  \n",
       "0               5.64  1.04                          3.92     1065  \n",
       "1               4.38  1.05                          3.40     1050  \n",
       "2               5.68  1.03                          3.17     1185  \n",
       "3               7.80  0.86                          3.45     1480  \n",
       "4               4.32  1.04                          2.93      735  \n",
       "..               ...   ...                           ...      ...  \n",
       "173             7.70  0.64                          1.74      740  \n",
       "174             7.30  0.70                          1.56      750  \n",
       "175            10.20  0.59                          1.56      835  \n",
       "176             9.30  0.60                          1.62      840  \n",
       "177             9.20  0.61                          1.60      560  \n",
       "\n",
       "[178 rows x 14 columns]"
      ]
     },
     "execution_count": 2,
     "metadata": {},
     "output_type": "execute_result"
    }
   ],
   "source": [
    "URL=\"https://archive.ics.uci.edu/ml/machine-learning-databases/wine/wine.data\"\n",
    "df_wine = pd.read_csv(URL, header=None)\n",
    "df_wine.columns = ['Class label', 'Alcohol', 'Malic acid', 'Ash', 'Alcalinity of ash', 'Magnesium', 'Total phenols',\n",
    "                   'Flavanoids', 'Nonflavanoid phenols', 'Proanthocyanins', 'Color intensity', 'Hue', 'OD280/OD315 of diluted wines', 'Proline']\n",
    "df_wine\n"
   ]
  },
  {
   "cell_type": "code",
   "execution_count": 3,
   "metadata": {},
   "outputs": [],
   "source": [
    "X,y=df_wine.iloc[:,1:].values,df_wine.iloc[:,0].values\n",
    "X_train,X_test,y_train,y_test=train_test_split(X,y,test_size=0.3,random_state=42)\n",
    "\n",
    "# Standardize the data\n",
    "sc=StandardScaler()\n",
    "X_train_std=sc.fit_transform(X_train)\n",
    "X_test_std=sc.transform(X_test)"
   ]
  },
  {
   "cell_type": "code",
   "execution_count": 4,
   "metadata": {},
   "outputs": [
    {
     "name": "stdout",
     "output_type": "stream",
     "text": [
      "Eigenvalues \\ n[0.09935613 0.17349645 0.23096439 0.25665489 0.28504118 0.34681782\n",
      " 0.46974164 0.59663887 0.92313257 0.99327678 1.5276711  2.45913372\n",
      " 4.74376552]\n",
      "Eigenvectors \\ n[[ 0.02053618  0.19383723 -0.2924713  -0.31043682 -0.22611951 -0.51726172\n",
      "   0.24715174 -0.12108437 -0.32221478 -0.04624624  0.12605367  0.49571937\n",
      "  -0.13443023]\n",
      " [-0.10406031 -0.08039695  0.2717176   0.20011018 -0.038156    0.01884124\n",
      "   0.60464068  0.16951285  0.18146701 -0.56428416 -0.08398481  0.21988534\n",
      "   0.25680248]\n",
      " [ 0.18793854  0.04789087 -0.38128856  0.41999396  0.08630281  0.17894583\n",
      "   0.10664983 -0.19927928 -0.10436437  0.14966332 -0.67171617  0.25579499\n",
      "   0.0113463 ]\n",
      " [-0.12520142  0.04047926  0.37269425 -0.31581767  0.10543504 -0.48861364\n",
      "  -0.18701632 -0.17513522  0.13809265  0.00919969 -0.58764561 -0.09630359\n",
      "   0.23405337]\n",
      " [-0.07224125 -0.01601375  0.02016848 -0.2613263  -0.21350905  0.13462195\n",
      "   0.23196898  0.31914517  0.56500632  0.52679936 -0.11734551  0.26616487\n",
      "  -0.15840049]\n",
      " [ 0.40186688  0.42790355  0.39971449 -0.08962007 -0.36795405  0.27271237\n",
      "  -0.15059567 -0.07048219 -0.02330903 -0.26095189 -0.15444497  0.06381624\n",
      "  -0.39194918]\n",
      " [-0.81694022 -0.00426256 -0.09549685  0.04669417 -0.17171338  0.13878451\n",
      "  -0.1391898  -0.07041316 -0.04544638 -0.20649548 -0.17404674  0.00971648\n",
      "  -0.41607649]\n",
      " [-0.05450617  0.01817233 -0.04263467 -0.30952412 -0.04795213  0.2518194\n",
      "  -0.10447089  0.64832705 -0.5151111  -0.02063026 -0.24065975  0.0275335\n",
      "   0.27871336]\n",
      " [ 0.17402593  0.05645548 -0.26440161  0.173039    0.25252899 -0.37418664\n",
      "  -0.27803268  0.53341622  0.29267105 -0.315633   -0.07724329  0.0073265\n",
      "  -0.33129255]\n",
      " [ 0.07175171 -0.56765236  0.1797596   0.14786034 -0.24588596 -0.00999247\n",
      "  -0.48665512 -0.02846287  0.01186302 -0.0475105   0.06523068  0.54829944\n",
      "   0.11383282]\n",
      " [ 0.0367436  -0.24286221  0.31379574  0.39578228 -0.28539284 -0.34892314\n",
      "   0.23281547  0.22342025 -0.33361312  0.30623963 -0.08675172 -0.27616688\n",
      "  -0.29726413]\n",
      " [ 0.23287947 -0.61195577 -0.10469148 -0.45139221  0.16998471  0.13470882\n",
      "   0.22244261 -0.13399425 -0.05658015 -0.20186583 -0.17043147 -0.15580423\n",
      "  -0.38054255]\n",
      " [-0.09828082  0.0971428   0.41663235  0.030606    0.69391174  0.07836996\n",
      "   0.04879138  0.02996626 -0.21403151  0.17851478  0.08888266  0.39269514\n",
      "  -0.27507157]]\n"
     ]
    }
   ],
   "source": [
    "cov_mat=np.cov(X_train_std.T)\n",
    "eigen_vals,eigen_vecs=np.linalg.eigh(cov_mat)\n",
    "print('Eigenvalues \\ n%s' %eigen_vals)\n",
    "print('Eigenvectors \\ n%s' %eigen_vecs)"
   ]
  },
  {
   "cell_type": "code",
   "execution_count": 5,
   "metadata": {},
   "outputs": [
    {
     "data": {
      "image/png": "[encoded data removed]",
      "text/plain": [
       "<Figure size 432x288 with 1 Axes>"
      ]
     },
     "metadata": {
      "needs_background": "light"
     },
     "output_type": "display_data"
    }
   ],
   "source": [
    "tot=sum(eigen_vals)\n",
    "var_exp=[(i/tot) for i in sorted(eigen_vals,reverse=True)]\n",
    "cum_var_exp=np.cumsum(var_exp)\n",
    "plt.bar(range(1,14),var_exp,alpha=0.5,align='center',label='individual explained variance')\n",
    "plt.step(range(1,14),cum_var_exp,where='mid',label='cumulative explained variance')\n",
    "plt.ylabel('Explained variance ratio')\n",
    "plt.xlabel('Principal components')\n",
    "plt.legend(loc='best')\n",
    "plt.tight_layout()\n",
    "plt.show()"
   ]
  },
  {
   "cell_type": "code",
   "execution_count": 6,
   "metadata": {},
   "outputs": [
    {
     "data": {
      "text/plain": [
       "[(4.743765516624771,\n",
       "  array([-0.13443023,  0.25680248,  0.0113463 ,  0.23405337, -0.15840049,\n",
       "         -0.39194918, -0.41607649,  0.27871336, -0.33129255,  0.11383282,\n",
       "         -0.29726413, -0.38054255, -0.27507157])),\n",
       " (2.459133719056184,\n",
       "  array([ 0.49571937,  0.21988534,  0.25579499, -0.09630359,  0.26616487,\n",
       "          0.06381624,  0.00971648,  0.0275335 ,  0.0073265 ,  0.54829944,\n",
       "         -0.27616688, -0.15580423,  0.39269514])),\n",
       " (1.5276711043996305,\n",
       "  array([ 0.12605367, -0.08398481, -0.67171617, -0.58764561, -0.11734551,\n",
       "         -0.15444497, -0.17404674, -0.24065975, -0.07724329,  0.06523068,\n",
       "         -0.08675172, -0.17043147,  0.08888266])),\n",
       " (0.9932767812225789,\n",
       "  array([-0.04624624, -0.56428416,  0.14966332,  0.00919969,  0.52679936,\n",
       "         -0.26095189, -0.20649548, -0.02063026, -0.315633  , -0.0475105 ,\n",
       "          0.30623963, -0.20186583,  0.17851478])),\n",
       " (0.9231325659686086,\n",
       "  array([-0.32221478,  0.18146701, -0.10436437,  0.13809265,  0.56500632,\n",
       "         -0.02330903, -0.04544638, -0.5151111 ,  0.29267105,  0.01186302,\n",
       "         -0.33361312, -0.05658015, -0.21403151])),\n",
       " (0.596638866719723,\n",
       "  array([-0.12108437,  0.16951285, -0.19927928, -0.17513522,  0.31914517,\n",
       "         -0.07048219, -0.07041316,  0.64832705,  0.53341622, -0.02846287,\n",
       "          0.22342025, -0.13399425,  0.02996626])),\n",
       " (0.46974163744154074,\n",
       "  array([ 0.24715174,  0.60464068,  0.10664983, -0.18701632,  0.23196898,\n",
       "         -0.15059567, -0.1391898 , -0.10447089, -0.27803268, -0.48665512,\n",
       "          0.23281547,  0.22244261,  0.04879138])),\n",
       " (0.34681782289324825,\n",
       "  array([-0.51726172,  0.01884124,  0.17894583, -0.48861364,  0.13462195,\n",
       "          0.27271237,  0.13878451,  0.2518194 , -0.37418664, -0.00999247,\n",
       "         -0.34892314,  0.13470882,  0.07836996])),\n",
       " (0.28504117988459865,\n",
       "  array([-0.22611951, -0.038156  ,  0.08630281,  0.10543504, -0.21350905,\n",
       "         -0.36795405, -0.17171338, -0.04795213,  0.25252899, -0.24588596,\n",
       "         -0.28539284,  0.16998471,  0.69391174])),\n",
       " (0.25665489117402734,\n",
       "  array([-0.31043682,  0.20011018,  0.41999396, -0.31581767, -0.2613263 ,\n",
       "         -0.08962007,  0.04669417, -0.30952412,  0.173039  ,  0.14786034,\n",
       "          0.39578228, -0.45139221,  0.030606  ])),\n",
       " (0.23096438638889394,\n",
       "  array([-0.2924713 ,  0.2717176 , -0.38128856,  0.37269425,  0.02016848,\n",
       "          0.39971449, -0.09549685, -0.04263467, -0.26440161,  0.1797596 ,\n",
       "          0.31379574, -0.10469148,  0.41663235])),\n",
       " (0.17349645358230478,\n",
       "  array([ 0.19383723, -0.08039695,  0.04789087,  0.04047926, -0.01601375,\n",
       "          0.42790355, -0.00426256,  0.01817233,  0.05645548, -0.56765236,\n",
       "         -0.24286221, -0.61195577,  0.0971428 ])),\n",
       " (0.09935613155446107,\n",
       "  array([ 0.02053618, -0.10406031,  0.18793854, -0.12520142, -0.07224125,\n",
       "          0.40186688, -0.81694022, -0.05450617,  0.17402593,  0.07175171,\n",
       "          0.0367436 ,  0.23287947, -0.09828082]))]"
      ]
     },
     "execution_count": 6,
     "metadata": {},
     "output_type": "execute_result"
    }
   ],
   "source": [
    "# make a list of (eigenvalue,eigenvector) tuples\n",
    "eigen_pairs=[(np.abs(eigen_vals[i]),eigen_vecs[:,i]) for i in range(len(eigen_vals))]\n",
    "\n",
    "# sort the (eigenvalue,eigenvector) tuples from high to low\n",
    "eigen_pairs.sort(key=lambda k:k[0],reverse=True)\n",
    "eigen_pairs"
   ]
  },
  {
   "cell_type": "code",
   "execution_count": 7,
   "metadata": {},
   "outputs": [
    {
     "name": "stdout",
     "output_type": "stream",
     "text": [
      "Matrix W:\n",
      " [[-0.13443023  0.49571937]\n",
      " [ 0.25680248  0.21988534]\n",
      " [ 0.0113463   0.25579499]\n",
      " [ 0.23405337 -0.09630359]\n",
      " [-0.15840049  0.26616487]\n",
      " [-0.39194918  0.06381624]\n",
      " [-0.41607649  0.00971648]\n",
      " [ 0.27871336  0.0275335 ]\n",
      " [-0.33129255  0.0073265 ]\n",
      " [ 0.11383282  0.54829944]\n",
      " [-0.29726413 -0.27616688]\n",
      " [-0.38054255 -0.15580423]\n",
      " [-0.27507157  0.39269514]]\n"
     ]
    }
   ],
   "source": [
    "w=np.hstack((eigen_pairs[0][1][:,np.newaxis],\n",
    "            eigen_pairs[1][1][:,np.newaxis]))\n",
    "print('Matrix W:\\n',w) "
   ]
  },
  {
   "cell_type": "code",
   "execution_count": 8,
   "metadata": {},
   "outputs": [
    {
     "data": {
      "text/plain": [
       "array([3.00694856, 0.44098187])"
      ]
     },
     "execution_count": 8,
     "metadata": {},
     "output_type": "execute_result"
    }
   ],
   "source": [
    "X_train_std[0].dot(w)"
   ]
  },
  {
   "cell_type": "code",
   "execution_count": 9,
   "metadata": {},
   "outputs": [],
   "source": [
    "X_train_pca=X_train_std.dot(w)"
   ]
  },
  {
   "cell_type": "code",
   "execution_count": 10,
   "metadata": {},
   "outputs": [
    {
     "data": {
      "image/png": "[encoded data removed]",
      "text/plain": [
       "<Figure size 432x288 with 1 Axes>"
      ]
     },
     "metadata": {
      "needs_background": "light"
     },
     "output_type": "display_data"
    }
   ],
   "source": [
    "colors=['r','b','g']\n",
    "markers=['o','s','^']\n",
    "for l,c,m in zip(np.unique(y_train),colors,markers):\n",
    "    plt.scatter(X_train_pca[y_train==1,0],\n",
    "                X_train_pca[y_train==1,1],\n",
    "                c=c,label=f'Class {l}',marker=m)\n",
    "\n",
    "plt.xlabel('PC 1')\n",
    "plt.ylabel('PC 2')\n",
    "plt.legend(loc='lower left')\n",
    "plt.tight_layout()\n",
    "plt.show()"
   ]
  },
  {
   "cell_type": "code",
   "execution_count": 11,
   "metadata": {},
   "outputs": [],
   "source": [
    "def plot_decision_regions(X,y,classifier,test_idx=None,resolution=0.2):\n",
    "    markers=('o','s','^','v','<')\n",
    "    colors=('red','blue','lightgreen','gray','cyan')\n",
    "    cmap=ListedColormap(colors[:len(np.unique(y))])\n",
    "\n",
    "    # plot the decision surface\n",
    "    x1_min,x1_max=X[:,0].min()-1,X[:,0].max()+1\n",
    "    x2_min,x2_max=X[:,1].min()-1,X[:,1].max()+1\n",
    "    xx1,xx2=np.meshgrid(np.arange(x1_min,x1_max,resolution),\n",
    "    np.arange(x2_min,x2_max,resolution))\n",
    "    lab=classifier.predict(np.array([xx1.ravel(),xx2.ravel()]).T)\n",
    "    lab=lab.reshape(xx1.shape)\n",
    "    plt.contour(xx1,xx2,lab,alpha=0.3,cmap=cmap)\n",
    "    plt.xlim(xx1.min(),xx1.max())\n",
    "    plt.ylim(xx2.min(),xx2.max())\n",
    "\n",
    "    for idx,cl in enumerate(np.unique(y)):\n",
    "        plt.scatter(x=X[y==cl,0],y=X[y==cl,1],\n",
    "                    alpha=0.8,c=colors[idx],\n",
    "                    marker=markers[idx],label=f'Class {cl}',\n",
    "                    edgecolor='black')  "
   ]
  },
  {
   "cell_type": "code",
   "execution_count": 12,
   "metadata": {},
   "outputs": [
    {
     "data": {
      "image/png": "[encoded data removed]",
      "text/plain": [
       "<Figure size 432x288 with 1 Axes>"
      ]
     },
     "metadata": {
      "needs_background": "light"
     },
     "output_type": "display_data"
    }
   ],
   "source": [
    "pca=PCA(n_components=2)\n",
    "lr=LogisticRegression(multi_class='ovr',random_state=42,solver='lbfgs')\n",
    "X_train_pca=pca.fit_transform(X_train_std)\n",
    "X_test_pca=pca.transform(X_test_std)\n",
    "lr.fit(X_train_pca,y_train)\n",
    "plot_decision_regions(X_train_pca,y_train,classifier=lr)\n",
    "plt.xlabel('PC 1')\n",
    "plt.ylabel('PC 2')\n",
    "plt.legend(loc='lower left')\n",
    "plt.tight_layout()\n",
    "plt.show()"
   ]
  },
  {
   "cell_type": "code",
   "execution_count": 13,
   "metadata": {},
   "outputs": [
    {
     "data": {
      "image/png": "[encoded data removed]",
      "text/plain": [
       "<Figure size 432x288 with 1 Axes>"
      ]
     },
     "metadata": {
      "needs_background": "light"
     },
     "output_type": "display_data"
    }
   ],
   "source": [
    "plot_decision_regions(X_test_pca,y_test,classifier=lr)\n",
    "plt.xlabel('PC 1')\n",
    "plt.ylabel('PC 2')\n",
    "plt.legend(loc='lower left')\n",
    "plt.tight_layout()\n",
    "plt.show()"
   ]
  },
  {
   "cell_type": "code",
   "execution_count": 14,
   "metadata": {},
   "outputs": [
    {
     "data": {
      "text/plain": [
       "array([0.36196226, 0.18763862, 0.11656548, 0.07578973, 0.07043753,\n",
       "       0.04552517, 0.03584257, 0.02646315, 0.02174942, 0.01958347,\n",
       "       0.01762321, 0.01323825, 0.00758114])"
      ]
     },
     "execution_count": 14,
     "metadata": {},
     "output_type": "execute_result"
    }
   ],
   "source": [
    "pca=PCA(n_components=None)\n",
    "X_train_pca=pca.fit_transform(X_train_std)\n",
    "pca.explained_variance_ratio_"
   ]
  },
  {
   "cell_type": "code",
   "execution_count": 15,
   "metadata": {},
   "outputs": [],
   "source": [
    "loadings=eigen_vecs*np.sqrt(eigen_vals)"
   ]
  },
  {
   "cell_type": "code",
   "execution_count": 16,
   "metadata": {},
   "outputs": [
    {
     "data": {
      "image/png": "[encoded data removed]",
      "text/plain": [
       "<Figure size 432x288 with 1 Axes>"
      ]
     },
     "metadata": {
      "needs_background": "light"
     },
     "output_type": "display_data"
    }
   ],
   "source": [
    "fig,ax=plt.subplots()\n",
    "ax.bar(range(13),loadings[:,0],align='center')\n",
    "ax.set_ylabel('Loadings for PC1')\n",
    "ax.set_xticks(range(13))\n",
    "ax.set_xticklabels(df_wine.columns[1:],rotation=90)\n",
    "ax.set_ylim([-1,1])\n",
    "plt.tight_layout()\n",
    "plt.show()    \n"
   ]
  },
  {
   "cell_type": "code",
   "execution_count": 17,
   "metadata": {},
   "outputs": [],
   "source": [
    "sklearn_loadings=pca.components_.T*np.sqrt(pca.explained_variance_)"
   ]
  },
  {
   "cell_type": "code",
   "execution_count": 18,
   "metadata": {},
   "outputs": [
    {
     "data": {
      "image/png": "[encoded data removed]",
      "text/plain": [
       "<Figure size 432x288 with 1 Axes>"
      ]
     },
     "metadata": {
      "needs_background": "light"
     },
     "output_type": "display_data"
    }
   ],
   "source": [
    "fig,ax=plt.subplots()\n",
    "ax.bar(range(13),sklearn_loadings[:,0],align='center')\n",
    "ax.set_ylabel('Loadings for PC1')\n",
    "ax.set_xticks(range(13))\n",
    "ax.set_xticklabels(df_wine.columns[1:],rotation=90)\n",
    "ax.set_ylim([-1,1])\n",
    "plt.tight_layout()\n",
    "plt.show()"
   ]
  },
  {
   "attachments": {},
   "cell_type": "markdown",
   "metadata": {},
   "source": [
    "### LDA\n"
   ]
  },
  {
   "cell_type": "code",
   "execution_count": 19,
   "metadata": {},
   "outputs": [
    {
     "name": "stdout",
     "output_type": "stream",
     "text": [
      "MV 1:[ 0.939  -0.3671  0.3042 -0.7939  0.4489  0.8891  0.9656 -0.4912  0.558\n",
      "  0.2169  0.4507  0.7705  1.1707]n\n",
      "MV 2:[-0.8597 -0.3294 -0.3959  0.298  -0.3083 -0.0496  0.0614 -0.0301  0.1509\n",
      " -0.867   0.4261  0.2809 -0.6949]n\n",
      "MV 3:[ 0.1596  0.9162  0.2243  0.4958 -0.0747 -0.9731 -1.2264  0.6222 -0.8784\n",
      "  1.0198 -1.1568 -1.3195 -0.3554]n\n"
     ]
    }
   ],
   "source": [
    "np.set_printoptions(precision=4)\n",
    "mean_vecs=[]\n",
    "for label in range(1,4):\n",
    "    mean_vecs.append(np.mean(X_train_std[y_train==label],axis=0))\n",
    "    print(f'MV {label}:{mean_vecs[label-1]}n')"
   ]
  },
  {
   "attachments": {},
   "cell_type": "markdown",
   "metadata": {},
   "source": [
    "### Scatter matrix"
   ]
  },
  {
   "cell_type": "code",
   "execution_count": 20,
   "metadata": {},
   "outputs": [
    {
     "name": "stdout",
     "output_type": "stream",
     "text": [
      "Within-class scatter matrix: (13, 13)n\n"
     ]
    }
   ],
   "source": [
    "d=13 # number of features\n",
    "S_W=np.zeros((d,d))\n",
    "for label,mv in zip(range(1,4),mean_vecs):\n",
    "    class_scatter=np.zeros((d,d))\n",
    "    for row in X_train_std[y_train==label]:\n",
    "        row,mv=row.reshape(d,1),mv.reshape(d,1)\n",
    "        class_scatter+=(row-mv).dot((row-mv).T)\n",
    "\n",
    "    S_W+=class_scatter\n",
    "\n",
    "print(f'Within-class scatter matrix: {S_W.shape}n')\n"
   ]
  },
  {
   "cell_type": "code",
   "execution_count": 21,
   "metadata": {},
   "outputs": [
    {
     "name": "stdout",
     "output_type": "stream",
     "text": [
      "Class label distribution: [40 50 34]n\n"
     ]
    }
   ],
   "source": [
    "print(f'Class label distribution: {np.bincount(y_train)[1:]}n')"
   ]
  },
  {
   "cell_type": "code",
   "execution_count": 22,
   "metadata": {},
   "outputs": [
    {
     "name": "stdout",
     "output_type": "stream",
     "text": [
      "Within-class scatter matrix: (13, 13)n\n"
     ]
    }
   ],
   "source": [
    "d = 13  # number of features\n",
    "S_W = np.zeros((d, d))\n",
    "for label, mv in zip(range(1, 4), mean_vecs):\n",
    "    class_scatter = np.cov(X_train_std[y_train == label].T)\n",
    "    S_W += class_scatter\n",
    "\n",
    "print(f'Within-class scatter matrix: {S_W.shape}n')\n"
   ]
  },
  {
   "cell_type": "code",
   "execution_count": 23,
   "metadata": {},
   "outputs": [
    {
     "name": "stdout",
     "output_type": "stream",
     "text": [
      "Between-class scatter matrix: (13, 13)n\n"
     ]
    }
   ],
   "source": [
    "mean_overall=np.mean(X_train_std,axis=0)\n",
    "mean_overall=mean_overall.reshape(d,1)\n",
    "\n",
    "d=13\n",
    "S_B=np.zeros((d,d))\n",
    "for i,mean_vec in enumerate(mean_vecs):\n",
    "    n=X_train[y_train==i+1,:].shape[0]\n",
    "    mean_vec=mean_vec.reshape(d,1)\n",
    "    S_B+=n*(mean_vec-mean_overall).dot((mean_vec-mean_overall).T)\n",
    "\n",
    "print(f'Between-class scatter matrix: {S_B.shape}n')\n"
   ]
  },
  {
   "cell_type": "code",
   "execution_count": 24,
   "metadata": {},
   "outputs": [],
   "source": [
    "eigen_vals,eigen_vecs=np.linalg.eigh(np.linalg.inv(S_W).dot(S_B))"
   ]
  },
  {
   "cell_type": "code",
   "execution_count": 25,
   "metadata": {},
   "outputs": [
    {
     "name": "stdout",
     "output_type": "stream",
     "text": [
      "Eigenvalues in descending order:\n",
      "\n",
      "501.9516910517615\n",
      "211.81131238223043\n",
      "167.17713240591445\n",
      "135.16716815337912\n",
      "99.57137580694392\n",
      "60.34148926247881\n",
      "35.798205659318654\n",
      "29.401190564734293\n",
      "19.680616576573787\n",
      "15.63590299137148\n",
      "12.195093806040123\n",
      "3.483448245895895\n",
      "1.150912831721352\n"
     ]
    }
   ],
   "source": [
    "eigen_pairs=[(np.abs(eigen_vals[i]),eigen_vecs[:,i]) for i in range(len(eigen_vals))]\n",
    "eigen_pairs=sorted(eigen_pairs,key=lambda k:k[0],reverse=True)\n",
    "print('Eigenvalues in descending order:\\n')\n",
    "for eigen_val in eigen_pairs:\n",
    "    print(eigen_val[0])"
   ]
  },
  {
   "cell_type": "code",
   "execution_count": 26,
   "metadata": {},
   "outputs": [
    {
     "data": {
      "image/png": "[encoded data removed]",
      "text/plain": [
       "<Figure size 432x288 with 1 Axes>"
      ]
     },
     "metadata": {
      "needs_background": "light"
     },
     "output_type": "display_data"
    }
   ],
   "source": [
    "tot=sum(eigen_vals.real)\n",
    "discr=[(i/tot) for i in sorted(eigen_vals.real,reverse=True)]\n",
    "cum_discr=np.cumsum(discr)\n",
    "\n",
    "plt.bar(range(1,14),discr,alpha=0.5,align='center',label='individual \"discriminability\"')\n",
    "\n",
    "plt.step(range(1,14),cum_discr,where='mid',label='cumulative \"discriminability\"')\n",
    "plt.ylabel('\"Discriminability\" ratio')\n",
    "plt.xlabel('Linear discriminants')\n",
    "plt.ylim([-0.1,1.1])\n",
    "plt.legend(loc='best')\n",
    "plt.tight_layout()\n",
    "plt.show()\n"
   ]
  },
  {
   "cell_type": "code",
   "execution_count": 27,
   "metadata": {},
   "outputs": [
    {
     "name": "stdout",
     "output_type": "stream",
     "text": [
      "Matrix W:\n",
      " [[-0.1374 -0.1118]\n",
      " [ 0.2433  0.3658]\n",
      " [-0.0169  0.0299]\n",
      " [ 0.2543  0.2586]\n",
      " [-0.0751 -0.1449]\n",
      " [-0.2827 -0.6541]\n",
      " [-0.5976  0.2806]\n",
      " [ 0.0593  0.1946]\n",
      " [-0.0987 -0.2224]\n",
      " [ 0.2573 -0.2338]\n",
      " [-0.1639 -0.0716]\n",
      " [-0.4174  0.2146]\n",
      " [-0.3656  0.2551]]\n"
     ]
    }
   ],
   "source": [
    "w=np.hstack((eigen_pairs[0][1][:,np.newaxis].real,eigen_pairs[1][1][:,np.newaxis].real))\n",
    "print('Matrix W:\\n',w)"
   ]
  },
  {
   "cell_type": "code",
   "execution_count": 28,
   "metadata": {},
   "outputs": [
    {
     "data": {
      "image/png": "[encoded data removed]",
      "text/plain": [
       "<Figure size 432x288 with 1 Axes>"
      ]
     },
     "metadata": {
      "needs_background": "light"
     },
     "output_type": "display_data"
    }
   ],
   "source": [
    "X_train_lda=X_train_std.dot(w)\n",
    "colors=['r','b','g']\n",
    "markers=['o','s','^']\n",
    "for l,c,m in zip(np.unique(y_train),colors,markers):\n",
    "    plt.scatter(X_train_lda[y_train==l,0],X_train_lda[y_train==l,1]*(-1),c=c,label=f'Class {l}',marker=m)\n",
    "plt.xlabel('LD 1')\n",
    "plt.ylabel('LD 2')\n",
    "plt.legend(loc='lower right')\n",
    "plt.tight_layout()\n",
    "plt.show()\n"
   ]
  },
  {
   "cell_type": "code",
   "execution_count": 29,
   "metadata": {},
   "outputs": [],
   "source": [
    "lda=LDA(n_components=2)\n",
    "X_train_lda=lda.fit_transform(X_train_std,y_train)"
   ]
  },
  {
   "cell_type": "code",
   "execution_count": 30,
   "metadata": {},
   "outputs": [
    {
     "data": {
      "image/png": "[encoded data removed]",
      "text/plain": [
       "<Figure size 432x288 with 1 Axes>"
      ]
     },
     "metadata": {
      "needs_background": "light"
     },
     "output_type": "display_data"
    }
   ],
   "source": [
    "lr=LogisticRegression(multi_class='ovr',random_state=42,solver='lbfgs')\n",
    "lr=lr.fit(X_train_lda,y_train)\n",
    "plot_decision_regions(X_train_lda,y_train,classifier=lr)\n",
    "plt.xlabel('LD 1')\n",
    "plt.ylabel('LD 2')\n",
    "plt.legend(loc='lower left')\n",
    "plt.tight_layout()\n",
    "plt.show()"
   ]
  },
  {
   "cell_type": "code",
   "execution_count": 31,
   "metadata": {},
   "outputs": [
    {
     "data": {
      "image/png": "[encoded data removed]",
      "text/plain": [
       "<Figure size 432x288 with 1 Axes>"
      ]
     },
     "metadata": {
      "needs_background": "light"
     },
     "output_type": "display_data"
    }
   ],
   "source": [
    "X_test_lda=lda.transform(X_test_std)\n",
    "plot_decision_regions(X_test_lda,y_test,classifier=lr)\n",
    "plt.xlabel('LD 1')\n",
    "plt.ylabel('LD 2')\n",
    "plt.legend(loc='lower left')\n",
    "plt.tight_layout()\n",
    "plt.show()\n"
   ]
  },
  {
   "cell_type": "code",
   "execution_count": null,
   "metadata": {},
   "outputs": [],
   "source": []
  },
  {
   "cell_type": "code",
   "execution_count": null,
   "metadata": {},
   "outputs": [],
   "source": []
  }
 ],
 "metadata": {
  "kernelspec": {
   "display_name": "base",
   "language": "python",
   "name": "python3"
  },
  "language_info": {
   "codemirror_mode": {
    "name": "ipython",
    "version": 3
   },
   "file_extension": ".py",
   "mimetype": "text/x-python",
   "name": "python",
   "nbconvert_exporter": "python",
   "pygments_lexer": "ipython3",
   "version": "3.9.7"
  },
  "orig_nbformat": 4,
  "vscode": {
   "interpreter": {
    "hash": "b09ec625f77bf4fd762565a912b97636504ad6ec901eb2d0f4cf5a7de23e1ee5"
   }
  }
 },
 "nbformat": 4,
 "nbformat_minor": 2
}
