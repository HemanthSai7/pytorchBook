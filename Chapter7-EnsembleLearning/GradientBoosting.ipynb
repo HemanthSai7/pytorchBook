{
 "cells": [
  {
   "cell_type": "code",
   "execution_count": 1,
   "metadata": {},
   "outputs": [],
   "source": [
    "import numpy as np\n",
    "import pandas as pd\n",
    "\n",
    "import xgboost as xgb\n",
    "from sklearn.metrics import accuracy_score\n",
    "from sklearn.preprocessing import LabelEncoder\n",
    "from sklearn.model_selection import train_test_split    \n"
   ]
  },
  {
   "cell_type": "code",
   "execution_count": 2,
   "metadata": {},
   "outputs": [],
   "source": [
    "df_wine=pd.read_csv(\"https://archive.ics.uci.edu/ml/machine-learning-databases/wine/wine.data\",header=None)\n",
    "df_wine.columns=[\"Class label\",\"Alcohol\",\n",
    "                 \"Malic acid\",\"Ash\",\n",
    "                 \"Alcalinity of ash\",\n",
    "                 \"Magnesium\",\"Total phenols\",\n",
    "                 \"Flavanoids\",\"Nonflavanoid phenols\",\n",
    "                 \"Proanthocyanins\",\n",
    "                 \"Color intensity\",\"Hue\",\n",
    "                 \"OD280/OD315 of diluted wines\",\n",
    "                 \"Proline\"]\n",
    "\n",
    "df_wine=df_wine[df_wine[\"Class label\"]!=1]\n",
    "y=df_wine[\"Class label\"].values\n",
    "X=df_wine[[\"Alcohol\",\"OD280/OD315 of diluted wines\"]].values"
   ]
  },
  {
   "cell_type": "code",
   "execution_count": 5,
   "metadata": {},
   "outputs": [],
   "source": [
    "le=LabelEncoder()\n",
    "y=le.fit_transform(y)\n",
    "X_train,X_test,y_train,y_test=train_test_split(X,y,\n",
    "                                               test_size=0.2,\n",
    "                                               random_state=1,\n",
    "                                               stratify=y)"
   ]
  },
  {
   "cell_type": "code",
   "execution_count": 6,
   "metadata": {},
   "outputs": [
    {
     "name": "stdout",
     "output_type": "stream",
     "text": [
      "XGBoost train/test accuracies 0.968/0.917\n"
     ]
    }
   ],
   "source": [
    "model=xgb.XGBClassifier(\n",
    "    n_estimators=1000,\n",
    "    learning_rate=0.01,\n",
    "    max_depth=4,\n",
    "    random_state=1)\n",
    "\n",
    "gbm=model.fit(X_train,y_train)\n",
    "y_train_pred=gbm.predict(X_train)\n",
    "y_test_pred=gbm.predict(X_test)\n",
    "\n",
    "gbm_train=accuracy_score(y_train,y_train_pred)\n",
    "gbm_test=accuracy_score(y_test,y_test_pred)\n",
    "print(f'XGBoost train/test accuracies {gbm_train:.3f}/{gbm_test:.3f}')"
   ]
  },
  {
   "cell_type": "code",
   "execution_count": null,
   "metadata": {},
   "outputs": [],
   "source": []
  }
 ],
 "metadata": {
  "kernelspec": {
   "display_name": "pytorchML",
   "language": "python",
   "name": "python3"
  },
  "language_info": {
   "codemirror_mode": {
    "name": "ipython",
    "version": 3
   },
   "file_extension": ".py",
   "mimetype": "text/x-python",
   "name": "python",
   "nbconvert_exporter": "python",
   "pygments_lexer": "ipython3",
   "version": "3.10.9"
  },
  "orig_nbformat": 4
 },
 "nbformat": 4,
 "nbformat_minor": 2
}
