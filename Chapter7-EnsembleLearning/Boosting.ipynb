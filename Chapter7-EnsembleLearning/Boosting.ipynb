{
 "cells": [
  {
   "attachments": {},
   "cell_type": "markdown",
   "metadata": {},
   "source": [
    "### Adaboost algorithm"
   ]
  },
  {
   "attachments": {},
   "cell_type": "markdown",
   "metadata": {},
   "source": [
    "$$Algorithm$$\n",
    "1. Set the weight vector, $w$, to uniform distribution, where $\\Sigma_i w_i = 1$\n",
    "2. For $j$ in $m$ boosting methods, do the following\n",
    "    1. Train a weighted weak learner: $Cj$ = train($X, y, w$)\n",
    "    2. Predict the output: $\\hat y$ = predict($Cj, X$)\n",
    "    3. Compute the weighted error rate: $\\epsilon$ = $w^T$($\\hat y$ != $y$)\n",
    "    4. Compute the weight of the weak learner: $\\alpha_j$ = 0.5log((1-$\\epsilon$)/$\\epsilon$)\n",
    "    5. Update the weight vector: $w$ = $w$ * exp($\\alpha_j$ * ($\\hat y$ != $y$))\n",
    "    6. Normalize the weight vector: $w$ = $w$ / $\\Sigma_i w_i$\n",
    "3. Compute the final prediction: $\\hat y$ = ($\\sum_{j=1}^{m}$($\\alpha_j$*predict($Cj, X$))>0)"
   ]
  },
  {
   "cell_type": "code",
   "execution_count": 1,
   "metadata": {},
   "outputs": [],
   "source": [
    "import numpy as np\n",
    "import pandas as pd"
   ]
  },
  {
   "cell_type": "code",
   "execution_count": 3,
   "metadata": {},
   "outputs": [
    {
     "name": "stdout",
     "output_type": "stream",
     "text": [
      "[0.1 0.1 0.1 0.1 0.1 0.1 0.1 0.1 0.1 0.1]\n",
      "0.3\n"
     ]
    }
   ],
   "source": [
    "y=np.array([1,1,1,-1,-1,-1,1,1,1,-1])\n",
    "yhat=np.array([1,1,1,-1,-1,-1,-1,-1,-1,-1])\n",
    "correct=(y==yhat)\n",
    "weights=np.full(10,0.1)\n",
    "print(weights)\n",
    "epsilon=np.mean(~correct)\n",
    "print(epsilon)"
   ]
  },
  {
   "cell_type": "code",
   "execution_count": 4,
   "metadata": {},
   "outputs": [
    {
     "name": "stdout",
     "output_type": "stream",
     "text": [
      "0.42364893019360184\n"
     ]
    }
   ],
   "source": [
    "alpha_j=0.5*np.log((1-epsilon)/epsilon)\n",
    "print(alpha_j)"
   ]
  },
  {
   "cell_type": "code",
   "execution_count": 5,
   "metadata": {},
   "outputs": [
    {
     "name": "stdout",
     "output_type": "stream",
     "text": [
      "0.06546536707079771\n",
      "0.1527525231651947\n"
     ]
    }
   ],
   "source": [
    "update_if_correct=0.1*np.exp(-alpha_j*1*1)\n",
    "print(update_if_correct)\n",
    "update_if_wrong=0.1*np.exp(-alpha_j*1*-1)\n",
    "print(update_if_wrong)"
   ]
  },
  {
   "cell_type": "code",
   "execution_count": 6,
   "metadata": {},
   "outputs": [
    {
     "name": "stdout",
     "output_type": "stream",
     "text": [
      "[0.06546537 0.06546537 0.06546537 0.06546537 0.06546537 0.06546537\n",
      " 0.15275252 0.15275252 0.15275252 0.06546537]\n"
     ]
    }
   ],
   "source": [
    "weights=np.where(correct==1,\n",
    "                 update_if_correct,\n",
    "                 update_if_wrong)\n",
    "print(weights)"
   ]
  },
  {
   "cell_type": "code",
   "execution_count": 7,
   "metadata": {},
   "outputs": [
    {
     "name": "stdout",
     "output_type": "stream",
     "text": [
      "[0.07142857 0.07142857 0.07142857 0.07142857 0.07142857 0.07142857\n",
      " 0.16666667 0.16666667 0.16666667 0.07142857]\n"
     ]
    }
   ],
   "source": [
    "normalized_weights=weights/np.sum(weights)\n",
    "print(normalized_weights)"
   ]
  },
  {
   "cell_type": "code",
   "execution_count": null,
   "metadata": {},
   "outputs": [],
   "source": []
  },
  {
   "cell_type": "code",
   "execution_count": null,
   "metadata": {},
   "outputs": [],
   "source": []
  },
  {
   "cell_type": "code",
   "execution_count": null,
   "metadata": {},
   "outputs": [],
   "source": []
  },
  {
   "cell_type": "code",
   "execution_count": null,
   "metadata": {},
   "outputs": [],
   "source": []
  }
 ],
 "metadata": {
  "kernelspec": {
   "display_name": "pytorchML",
   "language": "python",
   "name": "python3"
  },
  "language_info": {
   "codemirror_mode": {
    "name": "ipython",
    "version": 3
   },
   "file_extension": ".py",
   "mimetype": "text/x-python",
   "name": "python",
   "nbconvert_exporter": "python",
   "pygments_lexer": "ipython3",
   "version": "3.10.9"
  },
  "orig_nbformat": 4
 },
 "nbformat": 4,
 "nbformat_minor": 2
}
